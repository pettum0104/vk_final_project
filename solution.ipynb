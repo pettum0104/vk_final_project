{
 "cells": [
  {
   "cell_type": "code",
   "execution_count": 1,
   "id": "5cfeb65f",
   "metadata": {},
   "outputs": [],
   "source": [
    "import pandas as pd\n",
    "import numpy as np\n",
    "import os\n",
    "import random\n",
    "import matplotlib.pyplot as plt\n",
    "from collections import OrderedDict\n",
    "import gc\n",
    "import pickle\n",
    "from pathlib import Path\n",
    "from dataclasses import dataclass\n",
    "from typing import Any\n",
    "\n",
    "import torch\n",
    "from torch import nn\n",
    "from torch.nn import functional as F\n",
    "\n",
    "from transformers import AutoTokenizer, AutoModel\n",
    "from datasets import load_dataset\n",
    "from numpy.lib.stride_tricks import sliding_window_view\n",
    "from tqdm import tqdm, trange\n",
    "import warnings\n",
    "warnings.filterwarnings(\"ignore\")"
   ]
  },
  {
   "cell_type": "code",
   "execution_count": 2,
   "id": "5a75bd17",
   "metadata": {},
   "outputs": [],
   "source": [
    "device = 'cuda' if torch.cuda.is_available() else 'cpu'\n",
    "model_path = './CrossEncoderModel'"
   ]
  },
  {
   "cell_type": "code",
   "execution_count": 3,
   "id": "ec9e69d5",
   "metadata": {},
   "outputs": [],
   "source": [
    "class Model(nn.Module):\n",
    "    def __init__(self):\n",
    "        super().__init__()\n",
    "        self.model  = AutoModel.from_pretrained('intfloat/multilingual-e5-base')\n",
    "                                                # trust_remote_code=True, attn_implementation='sdpa')\n",
    "        self.tokenizer = AutoTokenizer.from_pretrained('intfloat/multilingual-e5-base', use_fast=True)\n",
    "        n_dim = 768\n",
    "        self.cls = nn.Sequential(OrderedDict(\n",
    "                                              [\n",
    "                                                ('dropout', torch.nn.Dropout(.0)),\n",
    "\n",
    "                                                ('fc_1' , nn.Linear(n_dim, n_dim)),\n",
    "                                                ('relu_1' , nn.GELU()),\n",
    "                                                ('layernorm_1' , nn.LayerNorm(n_dim, eps=1e-12)),\n",
    "\n",
    "                                                ('fc_2' , nn.Linear(n_dim, n_dim)),\n",
    "                                                ('relu_2' , nn.GELU()),\n",
    "                                                ('layernorm_2' , nn.LayerNorm(n_dim, eps=1e-12)),\n",
    "\n",
    "                                                ('fc_3' , nn.Linear(n_dim, 2, bias=False)),\n",
    "                                              ]\n",
    "                                ))\n",
    "    def forward(self, text):\n",
    "        token = self.tokenizer(text, return_tensors='pt', padding='max_length', \n",
    "                               truncation=True, max_length=512, add_special_tokens=True).to(device)\n",
    "        model_output = self.model(**token)\n",
    "        result = self.cls(model_output.pooler_output) ####### .pooler_output .last_hidden_state\n",
    "        return result"
   ]
  },
  {
   "cell_type": "code",
   "execution_count": 4,
   "id": "88d0c2ed",
   "metadata": {},
   "outputs": [],
   "source": [
    "crop = 3000\n",
    "\n",
    "df_train = pd.read_csv('train_split_pairs.csv')\n",
    "df_train['text1'] = df_train['text1'].apply(lambda x: x[:crop])\n",
    "df_train['text2'] = df_train['text2'].apply(lambda x: x[:crop])\n",
    "\n",
    "df_val = pd.read_csv('val_split_pairs.csv')\n",
    "df_val['text1'] = df_val['text1'].apply(lambda x: x[:crop])\n",
    "df_val['text2'] = df_val['text2'].apply(lambda x: x[:crop])\n",
    "\n",
    "df_train = df_train.sample(frac=1).reset_index(drop=True)"
   ]
  },
  {
   "cell_type": "code",
   "execution_count": 5,
   "id": "be947674",
   "metadata": {},
   "outputs": [],
   "source": [
    "def get_batch(df, n):\n",
    "    result = df.sample(n=n).reset_index(drop=True) \n",
    "    texts = result.iloc[:, [0, 1]].sample(frac=1, axis=1).values.tolist()\n",
    "    targets = result.iloc[:, 2].values.tolist()\n",
    "    return texts, targets\n",
    "\n",
    "def estimate_loss():\n",
    "    out = {}\n",
    "    for split in ['train', 'val']:\n",
    "        losses = torch.zeros(eval_iters)\n",
    "        accuracies = torch.zeros(eval_iters)\n",
    "        for i in range(eval_iters):\n",
    "            if split == 'train':\n",
    "                text, target = get_batch(df_train, batch_size)\n",
    "            else:\n",
    "                text, target = get_batch(df_val, batch_size)\n",
    "            loss, accuracy = calculate_loss(text, target)\n",
    "            losses[i] = loss.item()\n",
    "            accuracies[i] = accuracy.item()\n",
    "        out[f'{split}_loss'] = losses.mean().item()\n",
    "        out[f'{split}_accuracy'] = accuracies.mean().item()\n",
    "    return out\n",
    "\n",
    "def calculate_loss(text, target):\n",
    "    logit = pac.model(text)\n",
    "    target = torch.tensor(target, dtype=torch.long).to(device)\n",
    "    loss = F.cross_entropy(logit, target)\n",
    "    accuracy = sum(logit.to('cpu').argmax(1) == target.to('cpu')) / target.to('cpu').size(0)\n",
    "    return loss, accuracy\n",
    "\n",
    "def set_lr(i, optimizer):\n",
    "    if i < iterations * 0.2:  \n",
    "        lr = learning_rate * 1e-2\n",
    "    elif i < iterations * 0.8:  \n",
    "        lr = learning_rate\n",
    "    else:\n",
    "        lr = learning_rate * 1e-1  \n",
    "    optimizer.param_groups[0]['lr'] = lr\n",
    "    \n",
    "def train_model(pac):\n",
    "    pac.model.train()\n",
    "    for i in trange(iterations):\n",
    "        set_lr(i, pac.optimizer)\n",
    "        text, target = get_batch(df_train, batch_size)\n",
    "        loss, _ = calculate_loss(text, target)  \n",
    "        pac.optimizer.zero_grad(set_to_none=True)\n",
    "        loss.backward()\n",
    "        torch.nn.utils.clip_grad_norm_(pac.model.parameters(), max_norm = 1)\n",
    "        pac.optimizer.step()\n",
    "        if ((i % eval_interval == 0) or (i == iterations-1)): \n",
    "            pac.model.eval()\n",
    "            with torch.no_grad():\n",
    "                losses = estimate_loss()\n",
    "            print(f\"step {i}: train loss {losses['train_loss']:.8f}, val loss {losses['val_loss']:.8f} \", end='')\n",
    "            print(f\"train accuracy {losses['train_accuracy']:.0%}, val accuracy {losses['val_accuracy']:.0%}\")\n",
    "            pac.train_loss_history.append(losses['train_loss'])\n",
    "            pac.val_loss_history.append(losses['val_loss'])\n",
    "            if losses['val_loss'] < pac.best_val_loss:\n",
    "                print(f\"            saving checkpoint with val loss {losses['val_loss']:.8f}\")\n",
    "                pac.best_val_loss = losses['val_loss']\n",
    "                checkpoint = {  'model': pac.model.state_dict(),\n",
    "                                'optimizer': pac.optimizer.state_dict(),\n",
    "                                'best_val_loss': pac.best_val_loss,\n",
    "                                'train_loss_history' : pac.train_loss_history,\n",
    "                                'val_loss_history' : pac.val_loss_history,}\n",
    "                torch.save(checkpoint, model_path)\n",
    "            pac.model.train()\n",
    "    pac.model.eval()\n",
    "    \n",
    "def plot_losses(pac):\n",
    "    fig, ax = plt.subplots(nrows=1, ncols=2, figsize=(5, 3))\n",
    "    smooth = 8 if len(pac.train_loss_history) > 8 else 2\n",
    "    ax[0].plot(sliding_window_view(pac.train_loss_history, window_shape = smooth).mean(1))\n",
    "    ax[1].plot(sliding_window_view(pac.val_loss_history, window_shape = smooth).mean(1))\n",
    "    ax[0].set_title('train_loss_history')\n",
    "    ax[1].set_title('val_loss_history')\n",
    "    fig.suptitle('plot losses')\n",
    "    plt.show()"
   ]
  },
  {
   "cell_type": "code",
   "execution_count": 6,
   "id": "4ad0f130",
   "metadata": {},
   "outputs": [],
   "source": [
    "@dataclass\n",
    "class ModelPackage:\n",
    "    model : Any = None\n",
    "    optimizer : Any = None\n",
    "    best_val_loss : Any = None\n",
    "    train_loss_history : Any = None\n",
    "    val_loss_history : Any = None"
   ]
  },
  {
   "cell_type": "code",
   "execution_count": 7,
   "id": "3507e13a",
   "metadata": {},
   "outputs": [],
   "source": [
    "base_model = Model().to(device)\n",
    "torch.nn.init.zeros_(base_model.cls.fc_1.bias)\n",
    "torch.nn.init.zeros_(base_model.cls.fc_2.bias)\n",
    "base_optimizer = torch.optim.AdamW(base_model.parameters(), lr=5e-5) \n",
    "pac = ModelPackage(model=base_model, optimizer=base_optimizer, best_val_loss=1e+9, train_loss_history=[], val_loss_history=[])  "
   ]
  },
  {
   "cell_type": "code",
   "execution_count": 8,
   "id": "2bb6b1f3",
   "metadata": {},
   "outputs": [],
   "source": [
    "learning_rate = 9e-5\n",
    "batch_size = 24\n",
    "iterations = 1000 \n",
    "eval_interval = 50\n",
    "eval_iters = 25"
   ]
  },
  {
   "cell_type": "code",
   "execution_count": 9,
   "id": "af9f1839",
   "metadata": {},
   "outputs": [],
   "source": [
    "for name, parameter in pac.model.named_parameters():\n",
    "    if name.startswith('cls'):\n",
    "        parameter.requires_grad = True\n",
    "    else:\n",
    "        parameter.requires_grad = False\n",
    "\n",
    "pac.optimizer.param_groups[0]['weight_decay'] = 0.05\n",
    "# pac.model.cls[0].p = 0.1"
   ]
  },
  {
   "cell_type": "code",
   "execution_count": 10,
   "id": "c791f6b3",
   "metadata": {},
   "outputs": [
    {
     "name": "stderr",
     "output_type": "stream",
     "text": [
      "  0%|                                                                                         | 0/1000 [00:00<?, ?it/s]"
     ]
    },
    {
     "name": "stdout",
     "output_type": "stream",
     "text": [
      "step 0: train loss 0.73033333, val loss 0.75304466 train accuracy 50%, val accuracy 50%\n",
      "            saving checkpoint with val loss 0.75304466\n"
     ]
    },
    {
     "name": "stderr",
     "output_type": "stream",
     "text": [
      "  5%|████                                                                            | 50/1000 [00:36<05:52,  2.70it/s]"
     ]
    },
    {
     "name": "stdout",
     "output_type": "stream",
     "text": [
      "step 50: train loss 0.68916190, val loss 0.67532843 train accuracy 53%, val accuracy 56%\n",
      "            saving checkpoint with val loss 0.67532843\n"
     ]
    },
    {
     "name": "stderr",
     "output_type": "stream",
     "text": [
      " 10%|███████▊                                                                     | 101/1000 [01:31<1:23:37,  5.58s/it]"
     ]
    },
    {
     "name": "stdout",
     "output_type": "stream",
     "text": [
      "step 100: train loss 0.68792635, val loss 0.69640887 train accuracy 54%, val accuracy 49%\n"
     ]
    },
    {
     "name": "stderr",
     "output_type": "stream",
     "text": [
      " 15%|███████████▋                                                                 | 151/1000 [02:07<1:19:06,  5.59s/it]"
     ]
    },
    {
     "name": "stdout",
     "output_type": "stream",
     "text": [
      "step 150: train loss 0.68993783, val loss 0.68959594 train accuracy 53%, val accuracy 51%\n"
     ]
    },
    {
     "name": "stderr",
     "output_type": "stream",
     "text": [
      " 20%|███████████████▊                                                               | 200/1000 [02:26<04:59,  2.67it/s]"
     ]
    },
    {
     "name": "stdout",
     "output_type": "stream",
     "text": [
      "step 200: train loss 0.68855941, val loss 0.67105544 train accuracy 55%, val accuracy 57%\n",
      "            saving checkpoint with val loss 0.67105544\n"
     ]
    },
    {
     "name": "stderr",
     "output_type": "stream",
     "text": [
      " 25%|███████████████████▊                                                           | 250/1000 [03:03<04:41,  2.66it/s]"
     ]
    },
    {
     "name": "stdout",
     "output_type": "stream",
     "text": [
      "step 250: train loss 0.62589818, val loss 0.64974022 train accuracy 66%, val accuracy 59%\n",
      "            saving checkpoint with val loss 0.64974022\n"
     ]
    },
    {
     "name": "stderr",
     "output_type": "stream",
     "text": [
      " 30%|███████████████████████▋                                                       | 300/1000 [03:41<04:22,  2.67it/s]"
     ]
    },
    {
     "name": "stdout",
     "output_type": "stream",
     "text": [
      "step 300: train loss 0.64111483, val loss 0.62383795 train accuracy 63%, val accuracy 65%\n",
      "            saving checkpoint with val loss 0.62383795\n"
     ]
    },
    {
     "name": "stderr",
     "output_type": "stream",
     "text": [
      " 35%|███████████████████████████▋                                                   | 350/1000 [04:19<04:05,  2.65it/s]"
     ]
    },
    {
     "name": "stdout",
     "output_type": "stream",
     "text": [
      "step 350: train loss 0.62637049, val loss 0.61534995 train accuracy 63%, val accuracy 66%\n",
      "            saving checkpoint with val loss 0.61534995\n"
     ]
    },
    {
     "name": "stderr",
     "output_type": "stream",
     "text": [
      " 40%|███████████████████████████████▌                                               | 400/1000 [04:56<03:45,  2.66it/s]"
     ]
    },
    {
     "name": "stdout",
     "output_type": "stream",
     "text": [
      "step 400: train loss 0.61567199, val loss 0.60583496 train accuracy 66%, val accuracy 70%\n",
      "            saving checkpoint with val loss 0.60583496\n"
     ]
    },
    {
     "name": "stderr",
     "output_type": "stream",
     "text": [
      " 45%|███████████████████████████████████▋                                           | 451/1000 [05:52<51:29,  5.63s/it]"
     ]
    },
    {
     "name": "stdout",
     "output_type": "stream",
     "text": [
      "step 450: train loss 0.92146468, val loss 0.89897978 train accuracy 50%, val accuracy 52%\n"
     ]
    },
    {
     "name": "stderr",
     "output_type": "stream",
     "text": [
      " 50%|███████████████████████████████████████▌                                       | 501/1000 [06:28<46:49,  5.63s/it]"
     ]
    },
    {
     "name": "stdout",
     "output_type": "stream",
     "text": [
      "step 500: train loss 0.70181292, val loss 0.70385224 train accuracy 55%, val accuracy 56%\n"
     ]
    },
    {
     "name": "stderr",
     "output_type": "stream",
     "text": [
      " 55%|███████████████████████████████████████████▌                                   | 551/1000 [07:05<42:06,  5.63s/it]"
     ]
    },
    {
     "name": "stdout",
     "output_type": "stream",
     "text": [
      "step 550: train loss 0.62510020, val loss 0.65030318 train accuracy 66%, val accuracy 62%\n"
     ]
    },
    {
     "name": "stderr",
     "output_type": "stream",
     "text": [
      " 60%|███████████████████████████████████████████████▍                               | 601/1000 [07:41<37:28,  5.63s/it]"
     ]
    },
    {
     "name": "stdout",
     "output_type": "stream",
     "text": [
      "step 600: train loss 0.62531167, val loss 0.63134134 train accuracy 65%, val accuracy 64%\n"
     ]
    },
    {
     "name": "stderr",
     "output_type": "stream",
     "text": [
      " 65%|███████████████████████████████████████████████████▍                           | 651/1000 [08:17<32:46,  5.64s/it]"
     ]
    },
    {
     "name": "stdout",
     "output_type": "stream",
     "text": [
      "step 650: train loss 0.62331522, val loss 0.66326272 train accuracy 67%, val accuracy 63%\n"
     ]
    },
    {
     "name": "stderr",
     "output_type": "stream",
     "text": [
      " 70%|███████████████████████████████████████████████████████▍                       | 701/1000 [08:54<28:07,  5.64s/it]"
     ]
    },
    {
     "name": "stdout",
     "output_type": "stream",
     "text": [
      "step 700: train loss 0.60525054, val loss 0.65227258 train accuracy 67%, val accuracy 63%\n"
     ]
    },
    {
     "name": "stderr",
     "output_type": "stream",
     "text": [
      " 75%|███████████████████████████████████████████████████████████▎                   | 751/1000 [09:30<23:21,  5.63s/it]"
     ]
    },
    {
     "name": "stdout",
     "output_type": "stream",
     "text": [
      "step 750: train loss 0.73117143, val loss 0.80155200 train accuracy 54%, val accuracy 55%\n"
     ]
    },
    {
     "name": "stderr",
     "output_type": "stream",
     "text": [
      " 80%|███████████████████████████████████████████████████████████████▎               | 801/1000 [10:07<18:41,  5.64s/it]"
     ]
    },
    {
     "name": "stdout",
     "output_type": "stream",
     "text": [
      "step 800: train loss 0.61372155, val loss 0.61191893 train accuracy 67%, val accuracy 69%\n"
     ]
    },
    {
     "name": "stderr",
     "output_type": "stream",
     "text": [
      " 85%|███████████████████████████████████████████████████████████████████▏           | 851/1000 [10:43<13:59,  5.63s/it]"
     ]
    },
    {
     "name": "stdout",
     "output_type": "stream",
     "text": [
      "step 850: train loss 0.62756479, val loss 0.63910204 train accuracy 67%, val accuracy 64%\n"
     ]
    },
    {
     "name": "stderr",
     "output_type": "stream",
     "text": [
      " 90%|███████████████████████████████████████████████████████████████████████        | 900/1000 [11:02<00:37,  2.65it/s]"
     ]
    },
    {
     "name": "stdout",
     "output_type": "stream",
     "text": [
      "step 900: train loss 0.58737886, val loss 0.57723010 train accuracy 69%, val accuracy 72%\n",
      "            saving checkpoint with val loss 0.57723010\n"
     ]
    },
    {
     "name": "stderr",
     "output_type": "stream",
     "text": [
      " 95%|███████████████████████████████████████████████████████████████████████████▏   | 951/1000 [11:57<04:35,  5.63s/it]"
     ]
    },
    {
     "name": "stdout",
     "output_type": "stream",
     "text": [
      "step 950: train loss 0.69205266, val loss 0.66273719 train accuracy 59%, val accuracy 66%\n"
     ]
    },
    {
     "name": "stderr",
     "output_type": "stream",
     "text": [
      "100%|██████████████████████████████████████████████████████████████████████████████| 1000/1000 [12:33<00:00,  1.33it/s]"
     ]
    },
    {
     "name": "stdout",
     "output_type": "stream",
     "text": [
      "step 999: train loss 0.61219102, val loss 0.58759725 train accuracy 67%, val accuracy 70%\n"
     ]
    },
    {
     "name": "stderr",
     "output_type": "stream",
     "text": [
      "\n"
     ]
    }
   ],
   "source": [
    "train_model(pac)"
   ]
  },
  {
   "cell_type": "code",
   "execution_count": 11,
   "id": "5c529e4d",
   "metadata": {},
   "outputs": [
    {
     "data": {
      "image/png": "[encoded data removed]",
      "text/plain": [
       "<Figure size 500x300 with 2 Axes>"
      ]
     },
     "metadata": {},
     "output_type": "display_data"
    }
   ],
   "source": [
    "plot_losses(pac)"
   ]
  },
  {
   "cell_type": "code",
   "execution_count": 12,
   "id": "4570cb5b",
   "metadata": {},
   "outputs": [],
   "source": [
    "torch.cuda.empty_cache()"
   ]
  },
  {
   "cell_type": "code",
   "execution_count": 14,
   "id": "2abe2def",
   "metadata": {},
   "outputs": [],
   "source": [
    "learning_rate = 1e-5\n",
    "batch_size = 16\n",
    "iterations = 2000\n",
    "eval_interval = 50\n",
    "eval_iters = 25"
   ]
  },
  {
   "cell_type": "code",
   "execution_count": 15,
   "id": "77d79915",
   "metadata": {},
   "outputs": [],
   "source": [
    "def load_model_pac(pac, **kwargs):\n",
    "    if Path(model_path).exists():\n",
    "        state = torch.load(model_path, **kwargs)\n",
    "        pac.model = Model().to(device)\n",
    "        pac.model.load_state_dict(state['model'])\n",
    "        pac.optimizer = torch.optim.AdamW(pac.model.parameters())\n",
    "        pac.optimizer.load_state_dict(state['optimizer'])\n",
    "        pac.best_val_loss = state['best_val_loss']\n",
    "        pac.train_loss_history = state['train_loss_history']\n",
    "        pac.val_loss_history = state['val_loss_history']\n",
    "    else:\n",
    "        print('WARNING!!! no file to get model. pac is returned without changes')\n",
    "        \n",
    "load_model_pac(pac)"
   ]
  },
  {
   "cell_type": "code",
   "execution_count": 16,
   "id": "55a21b12",
   "metadata": {},
   "outputs": [],
   "source": [
    "for name, parameter in pac.model.named_parameters():\n",
    "    parameter.requires_grad = True\n",
    "\n",
    "pac.optimizer.param_groups[0]['weight_decay'] = 0.03\n",
    "pac.model.cls[0].p = 0.2"
   ]
  },
  {
   "cell_type": "code",
   "execution_count": 17,
   "id": "7dbf155a",
   "metadata": {},
   "outputs": [
    {
     "name": "stderr",
     "output_type": "stream",
     "text": [
      "  0%|                                                                                         | 0/2000 [00:00<?, ?it/s]"
     ]
    },
    {
     "name": "stdout",
     "output_type": "stream",
     "text": [
      "step 0: train loss 0.58010924, val loss 0.56952995 train accuracy 71%, val accuracy 69%\n",
      "            saving checkpoint with val loss 0.56952995\n"
     ]
    },
    {
     "name": "stderr",
     "output_type": "stream",
     "text": [
      "  3%|█▉                                                                            | 51/2000 [01:02<2:19:38,  4.30s/it]"
     ]
    },
    {
     "name": "stdout",
     "output_type": "stream",
     "text": [
      "step 50: train loss 0.58751017, val loss 0.60497022 train accuracy 68%, val accuracy 69%\n"
     ]
    },
    {
     "name": "stderr",
     "output_type": "stream",
     "text": [
      "  5%|███▉                                                                         | 101/2000 [01:48<2:16:16,  4.31s/it]"
     ]
    },
    {
     "name": "stdout",
     "output_type": "stream",
     "text": [
      "step 100: train loss 0.55894846, val loss 0.63604319 train accuracy 70%, val accuracy 66%\n"
     ]
    },
    {
     "name": "stderr",
     "output_type": "stream",
     "text": [
      "  8%|█████▊                                                                       | 151/2000 [02:34<2:12:51,  4.31s/it]"
     ]
    },
    {
     "name": "stdout",
     "output_type": "stream",
     "text": [
      "step 150: train loss 0.59483236, val loss 0.61270803 train accuracy 67%, val accuracy 68%\n"
     ]
    },
    {
     "name": "stderr",
     "output_type": "stream",
     "text": [
      " 10%|███████▋                                                                     | 201/2000 [03:19<2:09:27,  4.32s/it]"
     ]
    },
    {
     "name": "stdout",
     "output_type": "stream",
     "text": [
      "step 200: train loss 0.59783953, val loss 0.61999965 train accuracy 70%, val accuracy 69%\n"
     ]
    },
    {
     "name": "stderr",
     "output_type": "stream",
     "text": [
      " 13%|█████████▋                                                                   | 251/2000 [04:05<2:05:50,  4.32s/it]"
     ]
    },
    {
     "name": "stdout",
     "output_type": "stream",
     "text": [
      "step 250: train loss 0.54640061, val loss 0.59914541 train accuracy 72%, val accuracy 67%\n"
     ]
    },
    {
     "name": "stderr",
     "output_type": "stream",
     "text": [
      " 15%|███████████▌                                                                 | 301/2000 [04:51<2:02:14,  4.32s/it]"
     ]
    },
    {
     "name": "stdout",
     "output_type": "stream",
     "text": [
      "step 300: train loss 0.56110936, val loss 0.60673910 train accuracy 70%, val accuracy 69%\n"
     ]
    },
    {
     "name": "stderr",
     "output_type": "stream",
     "text": [
      " 18%|█████████████▌                                                               | 351/2000 [05:37<1:58:34,  4.31s/it]"
     ]
    },
    {
     "name": "stdout",
     "output_type": "stream",
     "text": [
      "step 350: train loss 0.58060217, val loss 0.61504251 train accuracy 69%, val accuracy 67%\n"
     ]
    },
    {
     "name": "stderr",
     "output_type": "stream",
     "text": [
      " 20%|███████████████▍                                                             | 401/2000 [06:23<1:55:15,  4.32s/it]"
     ]
    },
    {
     "name": "stdout",
     "output_type": "stream",
     "text": [
      "step 400: train loss 0.56482172, val loss 0.60311705 train accuracy 73%, val accuracy 69%\n"
     ]
    },
    {
     "name": "stderr",
     "output_type": "stream",
     "text": [
      " 23%|█████████████████▎                                                           | 451/2000 [07:09<1:51:27,  4.32s/it]"
     ]
    },
    {
     "name": "stdout",
     "output_type": "stream",
     "text": [
      "step 450: train loss 0.75990862, val loss 0.61385989 train accuracy 65%, val accuracy 68%\n"
     ]
    },
    {
     "name": "stderr",
     "output_type": "stream",
     "text": [
      " 25%|███████████████████▎                                                         | 501/2000 [07:55<1:48:03,  4.32s/it]"
     ]
    },
    {
     "name": "stdout",
     "output_type": "stream",
     "text": [
      "step 500: train loss 0.69626909, val loss 0.71875501 train accuracy 67%, val accuracy 65%\n"
     ]
    },
    {
     "name": "stderr",
     "output_type": "stream",
     "text": [
      " 28%|█████████████████████▏                                                       | 551/2000 [08:41<1:44:20,  4.32s/it]"
     ]
    },
    {
     "name": "stdout",
     "output_type": "stream",
     "text": [
      "step 550: train loss 0.68147069, val loss 0.57362491 train accuracy 67%, val accuracy 75%\n"
     ]
    },
    {
     "name": "stderr",
     "output_type": "stream",
     "text": [
      " 30%|███████████████████████▏                                                     | 601/2000 [09:27<1:40:40,  4.32s/it]"
     ]
    },
    {
     "name": "stdout",
     "output_type": "stream",
     "text": [
      "step 600: train loss 0.59285891, val loss 0.59571338 train accuracy 71%, val accuracy 68%\n"
     ]
    },
    {
     "name": "stderr",
     "output_type": "stream",
     "text": [
      " 33%|█████████████████████████                                                    | 651/2000 [10:13<1:37:09,  4.32s/it]"
     ]
    },
    {
     "name": "stdout",
     "output_type": "stream",
     "text": [
      "step 650: train loss 0.57958406, val loss 0.58005708 train accuracy 70%, val accuracy 71%\n"
     ]
    },
    {
     "name": "stderr",
     "output_type": "stream",
     "text": [
      " 35%|██████████████████████████▉                                                  | 701/2000 [10:59<1:33:32,  4.32s/it]"
     ]
    },
    {
     "name": "stdout",
     "output_type": "stream",
     "text": [
      "step 700: train loss 0.70879287, val loss 0.66839433 train accuracy 69%, val accuracy 68%\n"
     ]
    },
    {
     "name": "stderr",
     "output_type": "stream",
     "text": [
      " 38%|████████████████████████████▉                                                | 751/2000 [11:45<1:29:57,  4.32s/it]"
     ]
    },
    {
     "name": "stdout",
     "output_type": "stream",
     "text": [
      "step 750: train loss 0.64693570, val loss 0.68754548 train accuracy 69%, val accuracy 65%\n"
     ]
    },
    {
     "name": "stderr",
     "output_type": "stream",
     "text": [
      " 40%|██████████████████████████████▊                                              | 801/2000 [12:31<1:26:28,  4.33s/it]"
     ]
    },
    {
     "name": "stdout",
     "output_type": "stream",
     "text": [
      "step 800: train loss 0.57109612, val loss 0.61107844 train accuracy 74%, val accuracy 72%\n"
     ]
    },
    {
     "name": "stderr",
     "output_type": "stream",
     "text": [
      " 42%|█████████████████████████████████▌                                             | 850/2000 [13:04<13:08,  1.46it/s]"
     ]
    },
    {
     "name": "stdout",
     "output_type": "stream",
     "text": [
      "step 850: train loss 0.50254309, val loss 0.50079936 train accuracy 75%, val accuracy 77%\n",
      "            saving checkpoint with val loss 0.50079936\n"
     ]
    },
    {
     "name": "stderr",
     "output_type": "stream",
     "text": [
      " 45%|██████████████████████████████████▋                                          | 901/2000 [14:07<1:18:59,  4.31s/it]"
     ]
    },
    {
     "name": "stdout",
     "output_type": "stream",
     "text": [
      "step 900: train loss 0.49259782, val loss 0.56170321 train accuracy 76%, val accuracy 77%\n"
     ]
    },
    {
     "name": "stderr",
     "output_type": "stream",
     "text": [
      " 48%|████████████████████████████████████▌                                        | 951/2000 [14:53<1:15:29,  4.32s/it]"
     ]
    },
    {
     "name": "stdout",
     "output_type": "stream",
     "text": [
      "step 950: train loss 0.50561613, val loss 0.52400434 train accuracy 80%, val accuracy 80%\n"
     ]
    },
    {
     "name": "stderr",
     "output_type": "stream",
     "text": [
      " 50%|██████████████████████████████████████                                      | 1001/2000 [15:39<1:11:59,  4.32s/it]"
     ]
    },
    {
     "name": "stdout",
     "output_type": "stream",
     "text": [
      "step 1000: train loss 0.46303481, val loss 0.59335792 train accuracy 80%, val accuracy 77%\n"
     ]
    },
    {
     "name": "stderr",
     "output_type": "stream",
     "text": [
      " 52%|████████████████████████████████████████▉                                     | 1050/2000 [16:12<10:51,  1.46it/s]"
     ]
    },
    {
     "name": "stdout",
     "output_type": "stream",
     "text": [
      "step 1050: train loss 0.51231760, val loss 0.49784201 train accuracy 78%, val accuracy 79%\n",
      "            saving checkpoint with val loss 0.49784201\n"
     ]
    },
    {
     "name": "stderr",
     "output_type": "stream",
     "text": [
      " 55%|█████████████████████████████████████████▊                                  | 1101/2000 [17:15<1:04:43,  4.32s/it]"
     ]
    },
    {
     "name": "stdout",
     "output_type": "stream",
     "text": [
      "step 1100: train loss 0.30648673, val loss 0.58460408 train accuracy 88%, val accuracy 79%\n"
     ]
    },
    {
     "name": "stderr",
     "output_type": "stream",
     "text": [
      " 58%|███████████████████████████████████████████▋                                | 1151/2000 [18:01<1:01:09,  4.32s/it]"
     ]
    },
    {
     "name": "stdout",
     "output_type": "stream",
     "text": [
      "step 1150: train loss 0.37866977, val loss 0.51744539 train accuracy 82%, val accuracy 79%\n"
     ]
    },
    {
     "name": "stderr",
     "output_type": "stream",
     "text": [
      " 60%|██████████████████████████████████████████████▊                               | 1200/2000 [18:34<09:07,  1.46it/s]"
     ]
    },
    {
     "name": "stdout",
     "output_type": "stream",
     "text": [
      "step 1200: train loss 0.38387707, val loss 0.47386059 train accuracy 84%, val accuracy 81%\n",
      "            saving checkpoint with val loss 0.47386059\n"
     ]
    },
    {
     "name": "stderr",
     "output_type": "stream",
     "text": [
      " 63%|████████████████████████████████████████████████▊                             | 1251/2000 [19:37<53:53,  4.32s/it]"
     ]
    },
    {
     "name": "stdout",
     "output_type": "stream",
     "text": [
      "step 1250: train loss 0.64392990, val loss 0.56597626 train accuracy 75%, val accuracy 77%\n"
     ]
    },
    {
     "name": "stderr",
     "output_type": "stream",
     "text": [
      " 65%|██████████████████████████████████████████████████▋                           | 1300/2000 [20:10<07:58,  1.46it/s]"
     ]
    },
    {
     "name": "stdout",
     "output_type": "stream",
     "text": [
      "step 1300: train loss 0.34263185, val loss 0.45964414 train accuracy 85%, val accuracy 81%\n",
      "            saving checkpoint with val loss 0.45964414\n"
     ]
    },
    {
     "name": "stderr",
     "output_type": "stream",
     "text": [
      " 68%|████████████████████████████████████████████████████▋                         | 1351/2000 [21:13<46:41,  4.32s/it]"
     ]
    },
    {
     "name": "stdout",
     "output_type": "stream",
     "text": [
      "step 1350: train loss 0.31446016, val loss 0.58274233 train accuracy 86%, val accuracy 77%\n"
     ]
    },
    {
     "name": "stderr",
     "output_type": "stream",
     "text": [
      " 70%|██████████████████████████████████████████████████████▋                       | 1401/2000 [21:59<43:07,  4.32s/it]"
     ]
    },
    {
     "name": "stdout",
     "output_type": "stream",
     "text": [
      "step 1400: train loss 0.37275100, val loss 0.55557847 train accuracy 85%, val accuracy 80%\n"
     ]
    },
    {
     "name": "stderr",
     "output_type": "stream",
     "text": [
      " 73%|████████████████████████████████████████████████████████▌                     | 1451/2000 [22:45<39:29,  4.32s/it]"
     ]
    },
    {
     "name": "stdout",
     "output_type": "stream",
     "text": [
      "step 1450: train loss 0.44623539, val loss 0.53051847 train accuracy 82%, val accuracy 80%\n"
     ]
    },
    {
     "name": "stderr",
     "output_type": "stream",
     "text": [
      " 75%|██████████████████████████████████████████████████████████▌                   | 1501/2000 [23:30<35:55,  4.32s/it]"
     ]
    },
    {
     "name": "stdout",
     "output_type": "stream",
     "text": [
      "step 1500: train loss 0.30849522, val loss 0.71081424 train accuracy 88%, val accuracy 78%\n"
     ]
    },
    {
     "name": "stderr",
     "output_type": "stream",
     "text": [
      " 78%|████████████████████████████████████████████████████████████▍                 | 1550/2000 [24:04<05:08,  1.46it/s]"
     ]
    },
    {
     "name": "stdout",
     "output_type": "stream",
     "text": [
      "step 1550: train loss 0.57272810, val loss 0.45619422 train accuracy 79%, val accuracy 83%\n",
      "            saving checkpoint with val loss 0.45619422\n"
     ]
    },
    {
     "name": "stderr",
     "output_type": "stream",
     "text": [
      " 80%|██████████████████████████████████████████████████████████████▍               | 1601/2000 [25:06<28:42,  4.32s/it]"
     ]
    },
    {
     "name": "stdout",
     "output_type": "stream",
     "text": [
      "step 1600: train loss 0.51539350, val loss 0.54059362 train accuracy 81%, val accuracy 81%\n"
     ]
    },
    {
     "name": "stderr",
     "output_type": "stream",
     "text": [
      " 83%|████████████████████████████████████████████████████████████████▍             | 1651/2000 [25:52<25:09,  4.33s/it]"
     ]
    },
    {
     "name": "stdout",
     "output_type": "stream",
     "text": [
      "step 1650: train loss 0.29810035, val loss 0.52434778 train accuracy 89%, val accuracy 80%\n"
     ]
    },
    {
     "name": "stderr",
     "output_type": "stream",
     "text": [
      " 85%|██████████████████████████████████████████████████████████████████▎           | 1701/2000 [26:38<21:32,  4.32s/it]"
     ]
    },
    {
     "name": "stdout",
     "output_type": "stream",
     "text": [
      "step 1700: train loss 0.30862907, val loss 0.50080764 train accuracy 90%, val accuracy 82%\n"
     ]
    },
    {
     "name": "stderr",
     "output_type": "stream",
     "text": [
      " 88%|████████████████████████████████████████████████████████████████████▎         | 1751/2000 [27:24<17:57,  4.33s/it]"
     ]
    },
    {
     "name": "stdout",
     "output_type": "stream",
     "text": [
      "step 1750: train loss 0.32840043, val loss 0.63577408 train accuracy 88%, val accuracy 82%\n"
     ]
    },
    {
     "name": "stderr",
     "output_type": "stream",
     "text": [
      " 90%|██████████████████████████████████████████████████████████████████████▏       | 1801/2000 [28:10<14:20,  4.33s/it]"
     ]
    },
    {
     "name": "stdout",
     "output_type": "stream",
     "text": [
      "step 1800: train loss 0.38359654, val loss 0.61740142 train accuracy 85%, val accuracy 83%\n"
     ]
    },
    {
     "name": "stderr",
     "output_type": "stream",
     "text": [
      " 93%|████████████████████████████████████████████████████████████████████████▏     | 1851/2000 [28:56<10:44,  4.33s/it]"
     ]
    },
    {
     "name": "stdout",
     "output_type": "stream",
     "text": [
      "step 1850: train loss 0.32364574, val loss 0.62350547 train accuracy 87%, val accuracy 79%\n"
     ]
    },
    {
     "name": "stderr",
     "output_type": "stream",
     "text": [
      " 95%|██████████████████████████████████████████████████████████████████████████▏   | 1901/2000 [29:42<07:08,  4.32s/it]"
     ]
    },
    {
     "name": "stdout",
     "output_type": "stream",
     "text": [
      "step 1900: train loss 0.35193598, val loss 0.71857589 train accuracy 86%, val accuracy 78%\n"
     ]
    },
    {
     "name": "stderr",
     "output_type": "stream",
     "text": [
      " 98%|████████████████████████████████████████████████████████████████████████████  | 1951/2000 [30:28<03:31,  4.32s/it]"
     ]
    },
    {
     "name": "stdout",
     "output_type": "stream",
     "text": [
      "step 1950: train loss 0.32580760, val loss 0.59147871 train accuracy 89%, val accuracy 81%\n"
     ]
    },
    {
     "name": "stderr",
     "output_type": "stream",
     "text": [
      "100%|██████████████████████████████████████████████████████████████████████████████| 2000/2000 [31:13<00:00,  1.07it/s]"
     ]
    },
    {
     "name": "stdout",
     "output_type": "stream",
     "text": [
      "step 1999: train loss 0.26391208, val loss 0.58134538 train accuracy 90%, val accuracy 82%\n"
     ]
    },
    {
     "name": "stderr",
     "output_type": "stream",
     "text": [
      "\n"
     ]
    }
   ],
   "source": [
    "train_model(pac)"
   ]
  },
  {
   "cell_type": "code",
   "execution_count": 18,
   "id": "46a60f28",
   "metadata": {},
   "outputs": [],
   "source": [
    "torch.cuda.empty_cache()"
   ]
  },
  {
   "cell_type": "code",
   "execution_count": 19,
   "id": "997520f5",
   "metadata": {},
   "outputs": [
    {
     "data": {
      "image/png": "[encoded data removed]",
      "text/plain": [
       "<Figure size 500x300 with 2 Axes>"
      ]
     },
     "metadata": {},
     "output_type": "display_data"
    }
   ],
   "source": [
    "plot_losses(pac)"
   ]
  },
  {
   "cell_type": "code",
   "execution_count": 20,
   "id": "3943967b",
   "metadata": {},
   "outputs": [],
   "source": [
    "load_model_pac(pac)"
   ]
  },
  {
   "cell_type": "code",
   "execution_count": 21,
   "id": "34fc5f54",
   "metadata": {},
   "outputs": [],
   "source": [
    "title_data = pd.read_csv('pars.csv')\n",
    "train_groups = pd.read_csv('train_groups.csv')\n",
    "test = train_groups.merge(title_data, on='doc_id')\n",
    "test = test[['pair_id', 'group_id', 'doc_id', 'target', 'all_text']]\n",
    "test = test.dropna(subset='all_text')\n",
    "test = test[test['group_id'].isin([81, 115,  92,  14,  33,  48,   6, 124,  84,  20, 126,   4,  61, 75,  55])]\n",
    "test = test.reset_index(drop=True)\n",
    "test = test.assign(pred = 0)\n",
    "test['all_text'] = test['all_text'].apply(lambda x: x[:crop])"
   ]
  },
  {
   "cell_type": "code",
   "execution_count": 22,
   "id": "39b8fc07",
   "metadata": {
    "scrolled": true
   },
   "outputs": [
    {
     "name": "stderr",
     "output_type": "stream",
     "text": [
      "100%|██████████████████████████████████████████████████████████████████████████████| 1361/1361 [32:14<00:00,  1.42s/it]\n"
     ]
    }
   ],
   "source": [
    "pac.model.eval()\n",
    "val_preds = []\n",
    "for index, row in tqdm(test.iterrows(), total=test.shape[0]):\n",
    "    comps = test[(test.group_id==row.group_id) & (test.doc_id != row.doc_id)]\n",
    "    comps = comps.all_text.values.reshape(1, -1)\n",
    "    pairs = np.concatenate((np.tile(row.all_text, comps.shape), comps), axis=0).T\n",
    "    pairs_b = np.array_split(pairs, max(1, pairs.shape[0]//7))\n",
    "    preds = []\n",
    "    with torch.no_grad():\n",
    "        for pair in pairs_b:\n",
    "            preds += list(map(int, pac.model(pair.tolist()).argmax(1).detach().cpu()))\n",
    "    val_preds.append(preds)"
   ]
  },
  {
   "cell_type": "code",
   "execution_count": 27,
   "id": "f204b866-1317-4156-bf5c-ff5ea4141e52",
   "metadata": {},
   "outputs": [
    {
     "name": "stdout",
     "output_type": "stream",
     "text": [
      "0.7899891186071817\n"
     ]
    },
    {
     "data": {
      "text/plain": [
       "[[0.13438735177865613, 0.01],\n",
       " [0.2430939226519337, 0.02],\n",
       " [0.31338028169014087, 0.03],\n",
       " [0.37099494097807756, 0.04],\n",
       " [0.42857142857142855, 0.05],\n",
       " [0.47368421052631576, 0.06],\n",
       " [0.4977238239757208, 0.07],\n",
       " [0.5295857988165681, 0.08],\n",
       " [0.5681492109038737, 0.09],\n",
       " [0.5835694050991501, 0.1],\n",
       " [0.6132596685082873, 0.11],\n",
       " [0.6277173913043478, 0.12],\n",
       " [0.644474034620506, 0.13],\n",
       " [0.6579292267365662, 0.14],\n",
       " [0.6658064516129032, 0.15],\n",
       " [0.6785714285714286, 0.16],\n",
       " [0.691046658259773, 0.17],\n",
       " [0.704119850187266, 0.18],\n",
       " [0.7119901112484549, 0.19],\n",
       " [0.7167487684729064, 0.2],\n",
       " [0.7268292682926829, 0.21],\n",
       " [0.7305825242718447, 0.22],\n",
       " [0.7373493975903614, 0.23],\n",
       " [0.7401197604790419, 0.24],\n",
       " [0.7389749702026222, 0.25],\n",
       " [0.7434679334916865, 0.26],\n",
       " [0.7455621301775148, 0.27],\n",
       " [0.7488262910798122, 0.28],\n",
       " [0.75, 0.29],\n",
       " [0.7517401392111369, 0.3],\n",
       " [0.7517401392111369, 0.31],\n",
       " [0.7580645161290323, 0.32],\n",
       " [0.757192174913694, 0.33],\n",
       " [0.757192174913694, 0.34],\n",
       " [0.7628865979381443, 0.35],\n",
       " [0.7704545454545455, 0.36],\n",
       " [0.771850170261067, 0.37],\n",
       " [0.7746319365798414, 0.38],\n",
       " [0.7760180995475113, 0.39],\n",
       " [0.7760180995475113, 0.4],\n",
       " [0.7792792792792793, 0.41],\n",
       " [0.7821229050279329, 0.42],\n",
       " [0.7844444444444445, 0.43],\n",
       " [0.7844444444444445, 0.44],\n",
       " [0.7849223946784922, 0.45],\n",
       " [0.7840531561461794, 0.46],\n",
       " [0.7841409691629956, 0.47],\n",
       " [0.7868131868131868, 0.48],\n",
       " [0.7872807017543859, 0.49],\n",
       " [0.7890710382513662, 0.5],\n",
       " [0.7904451682953312, 0.51],\n",
       " [0.787027027027027, 0.52],\n",
       " [0.7913978494623656, 0.53],\n",
       " [0.7944325481798715, 0.54],\n",
       " [0.7957219251336899, 0.55],\n",
       " [0.7936170212765957, 0.56],\n",
       " [0.7919320594479831, 0.57],\n",
       " [0.7915343915343915, 0.58],\n",
       " [0.7915343915343915, 0.59],\n",
       " [0.7881981032665965, 0.6],\n",
       " [0.786540483701367, 0.61],\n",
       " [0.7853403141361257, 0.62],\n",
       " [0.786235662148071, 0.63],\n",
       " [0.7879417879417879, 0.64],\n",
       " [0.7883817427385892, 0.65],\n",
       " [0.7900723888314375, 0.66],\n",
       " [0.7896907216494845, 0.67],\n",
       " [0.789311408016444, 0.68],\n",
       " [0.7934560327198364, 0.69],\n",
       " [0.7955239064089522, 0.7],\n",
       " [0.797979797979798, 0.71],\n",
       " [0.7983870967741935, 0.72],\n",
       " [0.7971887550200804, 0.73],\n",
       " [0.7984031936127745, 0.74],\n",
       " [0.798810703666997, 0.75],\n",
       " [0.7996051332675223, 0.76],\n",
       " [0.7984267453294002, 0.77],\n",
       " [0.801175318315377, 0.78],\n",
       " [0.7984420642648491, 0.79],\n",
       " [0.7949709864603481, 0.8],\n",
       " [0.7965284474445516, 0.81],\n",
       " [0.7980952380952381, 0.82],\n",
       " [0.7977422389463782, 0.83],\n",
       " [0.7940354147250699, 0.84],\n",
       " [0.7977839335180056, 0.85],\n",
       " [0.7915904936014625, 0.86],\n",
       " [0.7879890809827116, 0.87],\n",
       " [0.7870036101083032, 0.88],\n",
       " [0.7850133809099019, 0.89],\n",
       " [0.7819947043248014, 0.9],\n",
       " [0.7731239092495636, 0.91],\n",
       " [0.7689655172413793, 0.92],\n",
       " [0.7616624257845632, 0.93],\n",
       " [0.7487520798668885, 0.94],\n",
       " [0.7405582922824302, 0.95],\n",
       " [0.7347266881028939, 0.96],\n",
       " [0.7205651491365777, 0.97],\n",
       " [0.7033639143730887, 0.98],\n",
       " [0.6676279740447008, 0.99]]"
      ]
     },
     "execution_count": 27,
     "metadata": {},
     "output_type": "execute_result"
    }
   ],
   "source": [
    "from sklearn.metrics import f1_score\n",
    "\n",
    "pred = [(np.argmax(np.bincount(preds))+1)%2 for preds in val_preds]\n",
    "print(f1_score(test.target, pred))\n",
    "q = []\n",
    "for i in np.arange(1, 100)/100:\n",
    "    pred = [int(preds.count(1) < len(preds)*i) for preds in val_preds]\n",
    "    q.append([f1_score(test.target, pred), i])\n",
    "top = max(q, key=lambda x: x[0])[1]\n",
    "q "
   ]
  },
  {
   "cell_type": "code",
   "execution_count": 28,
   "id": "9195d8ef",
   "metadata": {
    "scrolled": true
   },
   "outputs": [],
   "source": [
    "test_groups = pd.read_csv('test_groups.csv')\n",
    "test = test_groups.merge(title_data, on='doc_id')\n",
    "test = test.assign(target = 0)\n",
    "test = test.dropna(subset='all_text')\n",
    "test = test.reset_index(drop=True)\n",
    "test['all_text'] = test['all_text'].apply(lambda x: x[:crop])"
   ]
  },
  {
   "cell_type": "code",
   "execution_count": 29,
   "id": "259f9311-c9ec-4f29-b04e-6280d5728703",
   "metadata": {},
   "outputs": [],
   "source": [
    "torch.cuda.empty_cache()"
   ]
  },
  {
   "cell_type": "code",
   "execution_count": 30,
   "id": "36d937be",
   "metadata": {
    "scrolled": true
   },
   "outputs": [
    {
     "name": "stderr",
     "output_type": "stream",
     "text": [
      "100%|██████████████████████████████████████████████████████████████████████████| 16624/16624 [6:51:16<00:00,  1.48s/it]\n"
     ]
    }
   ],
   "source": [
    "from tqdm import tqdm\n",
    "\n",
    "pac.model.eval()\n",
    "test_preds = []\n",
    "for index, row in tqdm(test.iterrows(), total=test.shape[0]):\n",
    "    comps = test[(test.group_id==row.group_id) & (test.doc_id != row.doc_id)]\n",
    "    comps = comps.all_text.values.reshape(1, -1)\n",
    "    pairs = np.concatenate((np.tile(row.all_text, comps.shape), comps), axis=0).T\n",
    "    pairs_b = np.array_split(pairs, max(1, pairs.shape[0]//7))\n",
    "    preds = []\n",
    "    with torch.no_grad():\n",
    "        for pair in pairs_b:\n",
    "            preds += pac.model(pair.tolist()).argmax(1).detach().cpu()\n",
    "    test_preds.append(preds)"
   ]
  },
  {
   "cell_type": "code",
   "execution_count": 69,
   "id": "d1ecb775-2729-424f-a64f-4decca131fae",
   "metadata": {},
   "outputs": [],
   "source": [
    "import pickle\n",
    "with open(\"test\", \"wb\") as fp:\n",
    "    pickle.dump(test_preds, fp)"
   ]
  },
  {
   "cell_type": "code",
   "execution_count": 72,
   "id": "59fb67cc-85e5-40fa-94c4-1178ea7fa6ff",
   "metadata": {},
   "outputs": [
    {
     "data": {
      "text/plain": [
       "array([12101,  4523], dtype=int64)"
      ]
     },
     "execution_count": 72,
     "metadata": {},
     "output_type": "execute_result"
    }
   ],
   "source": [
    "p = 0.55\n",
    "pred = [int(preds.count(1) < len(preds)*p) for preds in test_preds]\n",
    "np.bincount(pred)"
   ]
  },
  {
   "cell_type": "code",
   "execution_count": 73,
   "id": "645ba2f5-1a4f-4386-91ab-8a3b61a499e5",
   "metadata": {},
   "outputs": [],
   "source": [
    "test['pred'] = pred"
   ]
  },
  {
   "cell_type": "code",
   "execution_count": 74,
   "id": "14c13ff7",
   "metadata": {},
   "outputs": [],
   "source": [
    "sub = pd.read_csv('sample_submission.csv', encoding='utf-8')\n",
    "merged_df = pd.merge(sub, test, on='pair_id', how='left')\n",
    "merged_df['target'] = merged_df['pred'].fillna(0)\n",
    "merged_df = merged_df[['pair_id', 'target']]\n",
    "merged_df.to_csv(f'submission{p}.csv', index=False)"
   ]
  }
 ],
 "metadata": {
  "kernelspec": {
   "display_name": "Python 3 (ipykernel)",
   "language": "python",
   "name": "python3"
  },
  "language_info": {
   "codemirror_mode": {
    "name": "ipython",
    "version": 3
   },
   "file_extension": ".py",
   "mimetype": "text/x-python",
   "name": "python",
   "nbconvert_exporter": "python",
   "pygments_lexer": "ipython3",
   "version": "3.10.11"
  }
 },
 "nbformat": 4,
 "nbformat_minor": 5
}
